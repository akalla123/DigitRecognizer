{
  "nbformat": 4,
  "nbformat_minor": 0,
  "metadata": {
    "colab": {
      "name": "CNN Digit Recognition Optimizer.ipynb",
      "version": "0.3.2",
      "provenance": []
    },
    "kernelspec": {
      "name": "python3",
      "display_name": "Python 3"
    },
    "accelerator": "GPU"
  },
  "cells": [
    {
      "metadata": {
        "id": "VYfNtuo801_b",
        "colab_type": "code",
        "colab": {}
      },
      "cell_type": "code",
      "source": [
        "import tensorflow as tf\n",
        "from tensorflow.keras.models import Sequential\n",
        "import numpy as np\n",
        "from tensorflow.keras.layers import Dense, Dropout, Activation, Flatten, Conv2D, MaxPooling2D,CuDNNLSTM\n",
        "import pandas as pd\n",
        "import time\n",
        "data = pd.read_csv('train.csv')\n",
        "y = pd.DataFrame(data['label'])\n",
        "x = data.drop('label',axis=1)\n",
        "x = x.values\n",
        "x = np.array(x).reshape(-1,28,28)\n",
        "x = np.array(x).reshape(-1,28,28,1)\n",
        "y = y.values\n",
        "y = np.array(y).reshape(-1)\n"
      ],
      "execution_count": 0,
      "outputs": []
    },
    {
      "metadata": {
        "id": "qBzawY7aAWU4",
        "colab_type": "code",
        "outputId": "ca44d8ab-c58c-408d-b528-2e5bdedf1e29",
        "colab": {
          "base_uri": "https://localhost:8080/",
          "height": 34
        }
      },
      "cell_type": "code",
      "source": [
        "x.shape\n"
      ],
      "execution_count": 0,
      "outputs": [
        {
          "output_type": "execute_result",
          "data": {
            "text/plain": [
              "(42000, 28, 28, 1)"
            ]
          },
          "metadata": {
            "tags": []
          },
          "execution_count": 108
        }
      ]
    },
    {
      "metadata": {
        "id": "GRR06_2UAYZR",
        "colab_type": "code",
        "outputId": "dfbea31e-28c1-42a1-9ec7-a625dbead7a3",
        "colab": {
          "base_uri": "https://localhost:8080/",
          "height": 34
        }
      },
      "cell_type": "code",
      "source": [
        "y.shape"
      ],
      "execution_count": 0,
      "outputs": [
        {
          "output_type": "execute_result",
          "data": {
            "text/plain": [
              "(42000,)"
            ]
          },
          "metadata": {
            "tags": []
          },
          "execution_count": 109
        }
      ]
    },
    {
      "metadata": {
        "id": "r0J2LxSZlSk6",
        "colab_type": "code",
        "colab": {}
      },
      "cell_type": "code",
      "source": [
        "def augment_data(dataset, dataset_labels, augementation_factor=1, use_random_rotation=True, use_random_shear=True, use_random_shift=True, use_random_zoom=True):\n",
        "\taugmented_image = []\n",
        "\taugmented_image_labels = []\n",
        "\n",
        "\tfor num in range (0, dataset.shape[0]):\n",
        "\n",
        "\t\tfor i in range(0, augementation_factor):\n",
        "\t\t\t# original image:\n",
        "\t\t\taugmented_image.append(dataset[num])\n",
        "\t\t\taugmented_image_labels.append(dataset_labels[num])\n",
        "\n",
        "\t\t\tif use_random_rotation:\n",
        "\t\t\t\taugmented_image.append(tf.contrib.keras.preprocessing.image.random_rotation(dataset[num], 20, row_axis=0, col_axis=1, channel_axis=1))\n",
        "\t\t\t\taugmented_image_labels.append(dataset_labels[num])\n",
        "\n",
        "\t\t\tif use_random_shear:\n",
        "\t\t\t\taugmented_image.append(tf.contrib.keras.preprocessing.image.random_shear(dataset[num], 0.2, row_axis=0, col_axis=1, channel_axis=2))\n",
        "\t\t\t\taugmented_image_labels.append(dataset_labels[num])\n",
        "\n",
        "\t\t\tif use_random_shift:\n",
        "\t\t\t\taugmented_image.append(tf.contrib.keras.preprocessing.image.random_shift(dataset[num], 0.2, 0.2, row_axis=0, col_axis=1, channel_axis=1))\n",
        "\t\t\t\taugmented_image_labels.append(dataset_labels[num])\n",
        "\n",
        "\treturn np.array(augmented_image), np.array(augmented_image_labels)"
      ],
      "execution_count": 0,
      "outputs": []
    },
    {
      "metadata": {
        "id": "Cb_2_QQJlV3E",
        "colab_type": "code",
        "colab": {}
      },
      "cell_type": "code",
      "source": [
        "x, y = augment_data(x,y)"
      ],
      "execution_count": 0,
      "outputs": []
    },
    {
      "metadata": {
        "id": "vkAhpV8tBEeq",
        "colab_type": "code",
        "colab": {}
      },
      "cell_type": "code",
      "source": [
        "x = np.array(x).reshape(-1,28,28)"
      ],
      "execution_count": 0,
      "outputs": []
    },
    {
      "metadata": {
        "id": "65_hDZUtAzP_",
        "colab_type": "code",
        "outputId": "ac3030e5-e5fb-43d6-d353-a72e12524451",
        "colab": {
          "base_uri": "https://localhost:8080/",
          "height": 34
        }
      },
      "cell_type": "code",
      "source": [
        "y.shape"
      ],
      "execution_count": 0,
      "outputs": [
        {
          "output_type": "execute_result",
          "data": {
            "text/plain": [
              "(168000,)"
            ]
          },
          "metadata": {
            "tags": []
          },
          "execution_count": 113
        }
      ]
    },
    {
      "metadata": {
        "id": "M7OgvRoUWM2k",
        "colab_type": "code",
        "outputId": "4d77544c-0e91-4a95-f69c-05bdc673d044",
        "colab": {
          "base_uri": "https://localhost:8080/",
          "height": 561
        }
      },
      "cell_type": "code",
      "source": [
        "x = x/255\n",
        "model = Sequential()\n",
        " \n",
        "model.add(CuDNNLSTM(256, input_shape=(x.shape[1:]), return_sequences=True))\n",
        "model.add(Dropout(0.2))\n",
        "model.add(CuDNNLSTM(256))\n",
        "model.add(Dropout(0.2))\n",
        "\n",
        "model.add(Dense(256, activation='relu'))\n",
        "model.add(Dropout(0.2))\n",
        "\n",
        "model.add(Dense(10, activation='softmax'))\n",
        "\n",
        "opt = tf.keras.optimizers.Adam(lr=0.001, decay=1e-6)\n",
        "\n",
        "model.compile(\n",
        "    loss='sparse_categorical_crossentropy',\n",
        "    optimizer=opt,\n",
        "    metrics=['accuracy'],\n",
        ")\n",
        "\n",
        "model.fit(x,\n",
        "          y,\n",
        "          epochs=15,validation_split=0.2)\n",
        "\n"
      ],
      "execution_count": 0,
      "outputs": [
        {
          "output_type": "stream",
          "text": [
            "Train on 134400 samples, validate on 33600 samples\n",
            "Epoch 1/15\n",
            "134400/134400 [==============================] - 158s 1ms/step - loss: 0.1932 - acc: 0.9399 - val_loss: 0.0611 - val_acc: 0.9830\n",
            "Epoch 2/15\n",
            "134400/134400 [==============================] - 127s 947us/step - loss: 0.0490 - acc: 0.9861 - val_loss: 0.0547 - val_acc: 0.9851\n",
            "Epoch 3/15\n",
            "134400/134400 [==============================] - 127s 945us/step - loss: 0.0320 - acc: 0.9906 - val_loss: 0.0606 - val_acc: 0.9860\n",
            "Epoch 4/15\n",
            "134400/134400 [==============================] - 127s 945us/step - loss: 0.0233 - acc: 0.9935 - val_loss: 0.0516 - val_acc: 0.9884\n",
            "Epoch 5/15\n",
            "134400/134400 [==============================] - 127s 946us/step - loss: 0.0168 - acc: 0.9953 - val_loss: 0.0787 - val_acc: 0.9838\n",
            "Epoch 6/15\n",
            "134400/134400 [==============================] - 127s 945us/step - loss: 0.0146 - acc: 0.9958 - val_loss: 0.0473 - val_acc: 0.9905\n",
            "Epoch 7/15\n",
            "134400/134400 [==============================] - 133s 988us/step - loss: 0.0126 - acc: 0.9964 - val_loss: 0.0526 - val_acc: 0.9891\n",
            "Epoch 8/15\n",
            "134400/134400 [==============================] - 129s 961us/step - loss: 0.0110 - acc: 0.9971 - val_loss: 0.0595 - val_acc: 0.9888\n",
            "Epoch 9/15\n",
            "134400/134400 [==============================] - 128s 949us/step - loss: 0.0092 - acc: 0.9976 - val_loss: 0.0518 - val_acc: 0.9899\n",
            "Epoch 10/15\n",
            "134400/134400 [==============================] - 127s 942us/step - loss: 0.0100 - acc: 0.9975 - val_loss: 0.0495 - val_acc: 0.9906\n",
            "Epoch 11/15\n",
            "134400/134400 [==============================] - 125s 933us/step - loss: 0.0080 - acc: 0.9981 - val_loss: 0.0689 - val_acc: 0.9895\n",
            "Epoch 12/15\n",
            "134400/134400 [==============================] - 127s 945us/step - loss: 0.0087 - acc: 0.9979 - val_loss: 0.0582 - val_acc: 0.9900\n",
            "Epoch 13/15\n",
            "134400/134400 [==============================] - 127s 942us/step - loss: 0.0065 - acc: 0.9983 - val_loss: 0.0639 - val_acc: 0.9903\n",
            "Epoch 14/15\n",
            "134400/134400 [==============================] - 123s 914us/step - loss: 0.0057 - acc: 0.9985 - val_loss: 0.0813 - val_acc: 0.9888\n",
            "Epoch 15/15\n",
            "134400/134400 [==============================] - 123s 916us/step - loss: 0.0056 - acc: 0.9985 - val_loss: 0.0704 - val_acc: 0.9902\n"
          ],
          "name": "stdout"
        },
        {
          "output_type": "execute_result",
          "data": {
            "text/plain": [
              "<tensorflow.python.keras.callbacks.History at 0x7fbea6885f28>"
            ]
          },
          "metadata": {
            "tags": []
          },
          "execution_count": 114
        }
      ]
    },
    {
      "metadata": {
        "id": "uTRYdNvx1Msh",
        "colab_type": "code",
        "colab": {}
      },
      "cell_type": "code",
      "source": [
        "dest = pd.read_csv('test.csv')\n",
        "test = dest.values\n",
        "test = np.array(test).reshape(-1,28,28)\n",
        "test = test/255\n",
        "predictions = model.predict([test])\n",
        "import numpy as np\n",
        "result=[]\n",
        "for item in predictions:\n",
        "    result.append(np.argmax(item))\n",
        "submit = pd.read_csv('sample_submission.csv')\n",
        "submit['Label'] = result"
      ],
      "execution_count": 0,
      "outputs": []
    },
    {
      "metadata": {
        "id": "xJMNJTnR1nGv",
        "colab_type": "code",
        "outputId": "c87e4448-ad0f-4f06-bace-eed7adfb1666",
        "colab": {
          "base_uri": "https://localhost:8080/",
          "height": 204
        }
      },
      "cell_type": "code",
      "source": [
        "submit.head()"
      ],
      "execution_count": 0,
      "outputs": [
        {
          "output_type": "execute_result",
          "data": {
            "text/html": [
              "<div>\n",
              "<style scoped>\n",
              "    .dataframe tbody tr th:only-of-type {\n",
              "        vertical-align: middle;\n",
              "    }\n",
              "\n",
              "    .dataframe tbody tr th {\n",
              "        vertical-align: top;\n",
              "    }\n",
              "\n",
              "    .dataframe thead th {\n",
              "        text-align: right;\n",
              "    }\n",
              "</style>\n",
              "<table border=\"1\" class=\"dataframe\">\n",
              "  <thead>\n",
              "    <tr style=\"text-align: right;\">\n",
              "      <th></th>\n",
              "      <th>ImageId</th>\n",
              "      <th>Label</th>\n",
              "    </tr>\n",
              "  </thead>\n",
              "  <tbody>\n",
              "    <tr>\n",
              "      <th>0</th>\n",
              "      <td>1</td>\n",
              "      <td>2</td>\n",
              "    </tr>\n",
              "    <tr>\n",
              "      <th>1</th>\n",
              "      <td>2</td>\n",
              "      <td>0</td>\n",
              "    </tr>\n",
              "    <tr>\n",
              "      <th>2</th>\n",
              "      <td>3</td>\n",
              "      <td>9</td>\n",
              "    </tr>\n",
              "    <tr>\n",
              "      <th>3</th>\n",
              "      <td>4</td>\n",
              "      <td>0</td>\n",
              "    </tr>\n",
              "    <tr>\n",
              "      <th>4</th>\n",
              "      <td>5</td>\n",
              "      <td>3</td>\n",
              "    </tr>\n",
              "  </tbody>\n",
              "</table>\n",
              "</div>"
            ],
            "text/plain": [
              "   ImageId  Label\n",
              "0        1      2\n",
              "1        2      0\n",
              "2        3      9\n",
              "3        4      0\n",
              "4        5      3"
            ]
          },
          "metadata": {
            "tags": []
          },
          "execution_count": 116
        }
      ]
    },
    {
      "metadata": {
        "id": "wIR4YT921vMW",
        "colab_type": "code",
        "colab": {}
      },
      "cell_type": "code",
      "source": [
        "submit.to_csv(\"result_new.csv\",index=False)"
      ],
      "execution_count": 0,
      "outputs": []
    },
    {
      "metadata": {
        "id": "OquGfei51y50",
        "colab_type": "code",
        "colab": {}
      },
      "cell_type": "code",
      "source": [
        "from google.colab import files\n",
        "files.download('result_new.csv') "
      ],
      "execution_count": 0,
      "outputs": []
    }
  ]
}